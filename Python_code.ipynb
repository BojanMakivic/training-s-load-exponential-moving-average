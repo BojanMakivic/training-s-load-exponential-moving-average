{
 "metadata": {
  "language_info": {
   "codemirror_mode": {
    "name": "ipython",
    "version": 3
   },
   "file_extension": ".py",
   "mimetype": "text/x-python",
   "name": "python",
   "nbconvert_exporter": "python",
   "pygments_lexer": "ipython3",
   "version": "3.8.5"
  },
  "orig_nbformat": 2,
  "kernelspec": {
   "name": "python3",
   "display_name": "Python 3.8.5 64-bit ('base': conda)",
   "metadata": {
    "interpreter": {
     "hash": "c0fc5c77b0f452b0db40c8ce8e3525b1b21db35c1e6cd22759a1f9a55688fbd9"
    }
   }
  }
 },
 "nbformat": 4,
 "nbformat_minor": 2,
 "cells": [
  {
   "cell_type": "code",
   "execution_count": 15,
   "metadata": {},
   "outputs": [],
   "source": [
    "import pandas as pd\n",
    "df = pd.read_csv('C:/Your_csv_file.csv', sep=';')\n",
    "df[\"Start Date\"] = pd.to_datetime(df['Start Date'],yearfirst=False, dayfirst=True)\n",
    "df['Load'] = df.iloc[:,3]*df.iloc[:,4]\n",
    "grouped_multiple = df.groupby([\"Name\",\"Start Date\", \"ID\"]).agg({ \"Load\":['sum']})\n",
    "grouped_multiple.columns = ['Load_sum']\n",
    "grouped_multiple = grouped_multiple.reset_index()\n",
    "pd.DataFrame(grouped_multiple)\n",
    "grouped_multiple['ema7'] = grouped_multiple.groupby(\"Name\")['Load_sum'].transform(lambda x: x.ewm(span=7,adjust=False).mean()) # Adjusted is used in order to adjust the values for the first seven days\n",
    "grouped_multiple['ema7'] = grouped_multiple['ema7'].astype(int)\n",
    "grouped_multiple['ema28'] = grouped_multiple.groupby(\"Name\")['Load_sum'].transform(lambda x: x.ewm(span=28,adjust=False).mean()) # Adjusted is used in order to adjust the values for the first 28 days\n",
    "grouped_multiple['ema28'] = grouped_multiple['ema28'].astype(int)"
   ]
  },
  {
   "cell_type": "code",
   "execution_count": 16,
   "metadata": {},
   "outputs": [
    {
     "output_type": "execute_result",
     "data": {
      "text/plain": [
       "               Name Start Date    ID  Load_sum  ema7  ema28\n",
       "0      Beau Stracke 2021-01-18  1972    1800.0  1800   1800\n",
       "1      Beau Stracke 2021-01-19  1972    1200.0  1650   1758\n",
       "2      Beau Stracke 2021-01-20  1972     840.0  1447   1695\n",
       "3      Beau Stracke 2021-01-21  1972    1680.0  1505   1694\n",
       "4      Beau Stracke 2021-01-22  1972    1320.0  1459   1668\n",
       "..              ...        ...   ...       ...   ...    ...\n",
       "335  Reilly Keeling 2021-02-24  1969     960.0  1205   1187\n",
       "336  Reilly Keeling 2021-02-25  1969    1200.0  1204   1188\n",
       "337  Reilly Keeling 2021-02-26  1969    1560.0  1293   1213\n",
       "338  Reilly Keeling 2021-02-27  1969     720.0  1150   1179\n",
       "339  Reilly Keeling 2021-02-28  1969     720.0  1042   1148\n",
       "\n",
       "[340 rows x 6 columns]"
      ],
      "text/html": "<div>\n<style scoped>\n    .dataframe tbody tr th:only-of-type {\n        vertical-align: middle;\n    }\n\n    .dataframe tbody tr th {\n        vertical-align: top;\n    }\n\n    .dataframe thead th {\n        text-align: right;\n    }\n</style>\n<table border=\"1\" class=\"dataframe\">\n  <thead>\n    <tr style=\"text-align: right;\">\n      <th></th>\n      <th>Name</th>\n      <th>Start Date</th>\n      <th>ID</th>\n      <th>Load_sum</th>\n      <th>ema7</th>\n      <th>ema28</th>\n    </tr>\n  </thead>\n  <tbody>\n    <tr>\n      <th>0</th>\n      <td>Beau Stracke</td>\n      <td>2021-01-18</td>\n      <td>1972</td>\n      <td>1800.0</td>\n      <td>1800</td>\n      <td>1800</td>\n    </tr>\n    <tr>\n      <th>1</th>\n      <td>Beau Stracke</td>\n      <td>2021-01-19</td>\n      <td>1972</td>\n      <td>1200.0</td>\n      <td>1650</td>\n      <td>1758</td>\n    </tr>\n    <tr>\n      <th>2</th>\n      <td>Beau Stracke</td>\n      <td>2021-01-20</td>\n      <td>1972</td>\n      <td>840.0</td>\n      <td>1447</td>\n      <td>1695</td>\n    </tr>\n    <tr>\n      <th>3</th>\n      <td>Beau Stracke</td>\n      <td>2021-01-21</td>\n      <td>1972</td>\n      <td>1680.0</td>\n      <td>1505</td>\n      <td>1694</td>\n    </tr>\n    <tr>\n      <th>4</th>\n      <td>Beau Stracke</td>\n      <td>2021-01-22</td>\n      <td>1972</td>\n      <td>1320.0</td>\n      <td>1459</td>\n      <td>1668</td>\n    </tr>\n    <tr>\n      <th>...</th>\n      <td>...</td>\n      <td>...</td>\n      <td>...</td>\n      <td>...</td>\n      <td>...</td>\n      <td>...</td>\n    </tr>\n    <tr>\n      <th>335</th>\n      <td>Reilly Keeling</td>\n      <td>2021-02-24</td>\n      <td>1969</td>\n      <td>960.0</td>\n      <td>1205</td>\n      <td>1187</td>\n    </tr>\n    <tr>\n      <th>336</th>\n      <td>Reilly Keeling</td>\n      <td>2021-02-25</td>\n      <td>1969</td>\n      <td>1200.0</td>\n      <td>1204</td>\n      <td>1188</td>\n    </tr>\n    <tr>\n      <th>337</th>\n      <td>Reilly Keeling</td>\n      <td>2021-02-26</td>\n      <td>1969</td>\n      <td>1560.0</td>\n      <td>1293</td>\n      <td>1213</td>\n    </tr>\n    <tr>\n      <th>338</th>\n      <td>Reilly Keeling</td>\n      <td>2021-02-27</td>\n      <td>1969</td>\n      <td>720.0</td>\n      <td>1150</td>\n      <td>1179</td>\n    </tr>\n    <tr>\n      <th>339</th>\n      <td>Reilly Keeling</td>\n      <td>2021-02-28</td>\n      <td>1969</td>\n      <td>720.0</td>\n      <td>1042</td>\n      <td>1148</td>\n    </tr>\n  </tbody>\n</table>\n<p>340 rows × 6 columns</p>\n</div>"
     },
     "metadata": {},
     "execution_count": 16
    }
   ],
   "source": [
    "grouped_multiple"
   ]
  },
  {
   "cell_type": "code",
   "execution_count": null,
   "metadata": {},
   "outputs": [],
   "source": []
  }
 ]
}
